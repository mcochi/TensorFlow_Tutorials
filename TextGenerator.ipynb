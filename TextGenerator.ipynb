{
 "cells": [
  {
   "cell_type": "code",
   "execution_count": 3,
   "metadata": {},
   "outputs": [],
   "source": [
    "# Text generation with RNN\n",
    "# This tutorial demonstrates how to generate text using a character-based RNN.\n",
    "# We will work with a dataset of Shakespeare's writing from\n",
    "# Andrej Karpathy's The Unreasonable Effectiveness of Recurrent\n",
    "# Neural Networks\n",
    "\n",
    "# Given a sequence of characters from this data, train a model to predict\n",
    "# the next character in the sequence\n",
    "\n",
    "import tensorflow as tf\n",
    "import numpy as np\n",
    "import os\n",
    "import time\n",
    "\n"
   ]
  },
  {
   "cell_type": "code",
   "execution_count": 4,
   "metadata": {},
   "outputs": [
    {
     "name": "stdout",
     "output_type": "stream",
     "text": [
      "Length of text: 1115394 characters\n",
      "First Citizen:\n",
      "Before we proceed any further, hear me speak.\n",
      "\n",
      "All:\n",
      "Speak, speak.\n",
      "\n",
      "First Citizen:\n",
      "You are all resolved rather to die than to famish?\n",
      "\n",
      "All:\n",
      "Resolved. resolved.\n",
      "\n",
      "First Citizen:\n",
      "First, you know Caius Marcius is chief enemy to the people.\n",
      "\n"
     ]
    }
   ],
   "source": [
    "# Download the Shakespeare dataset\n",
    "path_to_file = tf.keras.utils.get_file('shakespeare.txt', 'https://storage.googleapis.com/download.tensorflow.org/data/shakespeare.txt')\n",
    "\n",
    "# Read the data\n",
    "# Read, then decode for py2 compat.\n",
    "text = open(path_to_file, 'rb').read().decode(encoding='utf-8')\n",
    "# length of text is the number of characters in it\n",
    "print ('Length of text: {} characters'.format(len(text)))\n",
    "# Take a look at the first 250 characters in text\n",
    "print(text[:250])"
   ]
  },
  {
   "cell_type": "code",
   "execution_count": 5,
   "metadata": {},
   "outputs": [
    {
     "name": "stdout",
     "output_type": "stream",
     "text": [
      "65 unique characters\n"
     ]
    }
   ],
   "source": [
    "# The unique characters in the file\n",
    "vocab = sorted(set(text))\n",
    "print ('{} unique characters'.format(len(vocab)))"
   ]
  },
  {
   "cell_type": "code",
   "execution_count": 6,
   "metadata": {},
   "outputs": [
    {
     "name": "stdout",
     "output_type": "stream",
     "text": [
      "{\n",
      "  '\\n':   0,\n",
      "  ' ' :   1,\n",
      "  '!' :   2,\n",
      "  '$' :   3,\n",
      "  '&' :   4,\n",
      "  \"'\" :   5,\n",
      "  ',' :   6,\n",
      "  '-' :   7,\n",
      "  '.' :   8,\n",
      "  '3' :   9,\n",
      "  ':' :  10,\n",
      "  ';' :  11,\n",
      "  '?' :  12,\n",
      "  'A' :  13,\n",
      "  'B' :  14,\n",
      "  'C' :  15,\n",
      "  'D' :  16,\n",
      "  'E' :  17,\n",
      "  'F' :  18,\n",
      "  'G' :  19,\n",
      "  ...\n",
      "}\n"
     ]
    }
   ],
   "source": [
    "# Process the text\n",
    "# Before training, we need to map strings to a numerical representations. \n",
    "# Create two lookup tables: One mapping characterers to numbers, and another for numbers to characters\n",
    "\n",
    "# Creating a mapping from unique characters to indices\n",
    "char2idx = {u:i for i, u in enumerate(vocab)}\n",
    "idx2char = np.array(vocab)\n",
    "\n",
    "text_as_int = np.array([char2idx[c] for c in text])\n",
    "\n",
    "print('{')\n",
    "for char,_ in zip(char2idx, range(20)):\n",
    "    print('  {:4s}: {:3d},'.format(repr(char), char2idx[char]))\n",
    "print('  ...\\n}')"
   ]
  },
  {
   "cell_type": "code",
   "execution_count": 7,
   "metadata": {},
   "outputs": [
    {
     "name": "stdout",
     "output_type": "stream",
     "text": [
      "'First Citizen' ---- characters mapped to int ---- > [18 47 56 57 58  1 15 47 58 47 64 43 52]\n"
     ]
    }
   ],
   "source": [
    "print ('{} ---- characters mapped to int ---- > {}'.format(repr(text[:13]), text_as_int[:13]))"
   ]
  },
  {
   "cell_type": "markdown",
   "metadata": {},
   "source": [
    "# The Prediction task\n",
    "https://medium.com/mlreview/making-ai-art-with-style-transfer-using-keras-8bb5fa44b216\n",
    "\n",
    "Given a character, or a sequence of characters, what's is the most probable next character? The input to the model will be a sequence of characters and we train the model to predict the output- the following character at each time step.\n",
    "\n",
    "Since RNNs maintain an internal state that depends on the previously see elements, given all the characters computed util this moment,what is the next character"
   ]
  },
  {
   "cell_type": "markdown",
   "metadata": {},
   "source": [
    "# Create training examples\n",
    "\n",
    "Next divide the text into example sequences. Each input sequences will contain seq_length characters from the text. For each input sequence, the correspondign targets contain the same length of text, except shifted one character to the right.\n",
    "\n",
    "So break the text into chunks of seq_length+1. For example, say seq_length is 4 and our text is \"Hello\". The input sequence would be \"Hell\" and the target sequence \"ello\".\n",
    "\n",
    "To do this firs use the tf.data.Datasets.from_tensor_slices function to convert the text vector into a stream of character indices\n"
   ]
  },
  {
   "cell_type": "code",
   "execution_count": 9,
   "metadata": {},
   "outputs": [
    {
     "name": "stdout",
     "output_type": "stream",
     "text": [
      "F\n",
      "i\n",
      "r\n",
      "s\n",
      "t\n",
      " \n",
      "C\n",
      "i\n",
      "t\n",
      "i\n"
     ]
    }
   ],
   "source": [
    "# The maximun lenght sentece we want for a single input in characters\n",
    "\n",
    "seq_length = 100\n",
    "examples_per_epoch = len(text)\n",
    "\n",
    "# Create training examples /target\n",
    "\n",
    "char_dataset = tf.data.Dataset.from_tensor_slices(text_as_int)\n",
    "\n",
    "for i in char_dataset.take(10):\n",
    "    print(idx2char[i.numpy()])"
   ]
  },
  {
   "cell_type": "code",
   "execution_count": 13,
   "metadata": {},
   "outputs": [
    {
     "name": "stdout",
     "output_type": "stream",
     "text": [
      "'First Citizen:\\nBefore we proceed any further, hear me speak.\\n\\nAll:\\nSpeak, speak.\\n\\nFirst Citizen:\\nYou '\n",
      "'are all resolved rather to die than to famish?\\n\\nAll:\\nResolved. resolved.\\n\\nFirst Citizen:\\nFirst, you k'\n",
      "\"now Caius Marcius is chief enemy to the people.\\n\\nAll:\\nWe know't, we know't.\\n\\nFirst Citizen:\\nLet us ki\"\n",
      "\"ll him, and we'll have corn at our own price.\\nIs't a verdict?\\n\\nAll:\\nNo more talking on't; let it be d\"\n",
      "'one: away, away!\\n\\nSecond Citizen:\\nOne word, good citizens.\\n\\nFirst Citizen:\\nWe are accounted poor citi'\n"
     ]
    }
   ],
   "source": [
    "# The batch method lets us easyly convert these individuals characters\n",
    "# to sequence of desired size\n",
    "\n",
    "sequences = char_dataset.batch(seq_length+1, drop_remainder=True)\n",
    "for item in sequences.take(5):\n",
    "  print(repr(''.join(idx2char[item.numpy()])))"
   ]
  },
  {
   "cell_type": "code",
   "execution_count": 12,
   "metadata": {},
   "outputs": [
    {
     "name": "stdout",
     "output_type": "stream",
     "text": [
      "Input data:  'First Citizen:\\nBefore we proceed any further, hear me speak.\\n\\nAll:\\nSpeak, speak.\\n\\nFirst Citizen:\\nYou'\n",
      "Target data: 'irst Citizen:\\nBefore we proceed any further, hear me speak.\\n\\nAll:\\nSpeak, speak.\\n\\nFirst Citizen:\\nYou '\n"
     ]
    }
   ],
   "source": [
    "def split_input_target(chunk):\n",
    "    input_text = chunk [:-1]\n",
    "    target_text = chunk [1:]\n",
    "    return input_text, target_text\n",
    "\n",
    "dataset = sequences.map(split_input_target)\n",
    "\n",
    "for input_example, target_example in  dataset.take(1):\n",
    "  print ('Input data: ', repr(''.join(idx2char[input_example.numpy()])))\n",
    "  print ('Target data:', repr(''.join(idx2char[target_example.numpy()])))"
   ]
  },
  {
   "cell_type": "markdown",
   "metadata": {},
   "source": [
    "Each index of these vectors are processed as one time step. For the input at time 0, the model receives the index for \"F\" and trys to predict the index for \"i\" as the next character. At the next timestep, it does the same thing but the RNN considers the previous step contexts in addition to the current input character."
   ]
  },
  {
   "cell_type": "code",
   "execution_count": 14,
   "metadata": {},
   "outputs": [
    {
     "name": "stdout",
     "output_type": "stream",
     "text": [
      "Step    0\n",
      "  input: 18 ('F')\n",
      "  expected output: 47 ('i')\n",
      "Step    1\n",
      "  input: 47 ('i')\n",
      "  expected output: 56 ('r')\n",
      "Step    2\n",
      "  input: 56 ('r')\n",
      "  expected output: 57 ('s')\n",
      "Step    3\n",
      "  input: 57 ('s')\n",
      "  expected output: 58 ('t')\n",
      "Step    4\n",
      "  input: 58 ('t')\n",
      "  expected output: 1 (' ')\n"
     ]
    }
   ],
   "source": [
    "for i, (input_idx, target_idx) in enumerate(zip(input_example[:5], target_example[:5])):\n",
    "    print(\"Step {:4d}\".format(i))\n",
    "    print(\"  input: {} ({:s})\".format(input_idx, repr(idx2char[input_idx])))\n",
    "    print(\"  expected output: {} ({:s})\".format(target_idx, repr(idx2char[target_idx])))"
   ]
  },
  {
   "cell_type": "code",
   "execution_count": 15,
   "metadata": {},
   "outputs": [
    {
     "data": {
      "text/plain": [
       "<BatchDataset shapes: ((64, 100), (64, 100)), types: (tf.int64, tf.int64)>"
      ]
     },
     "execution_count": 15,
     "metadata": {},
     "output_type": "execute_result"
    }
   ],
   "source": [
    "# Create training Batches\n",
    "\n",
    "# Batch size \n",
    "BATCH_SIZE = 64\n",
    "BUFFER_SIZE = 10000\n",
    "\n",
    "dataset = dataset.shuffle(BUFFER_SIZE).batch(BATCH_SIZE, drop_remainder=True)\n",
    "dataset\n",
    "\n",
    "# De este modo cogemos BATCH de 64 elementos con 100 elementos cada uno, que era la longitud de la sentencia, uno de input y otro de target"
   ]
  },
  {
   "cell_type": "markdown",
   "metadata": {},
   "source": [
    "# Build the model\n",
    "Use tf.keras.Sequential to define the model. For this simple example three layers are used to define our model:\n",
    "* tf.keras.layers.Embedding: The input layer. A trainable lookup table that will map the numbers of each character to a vector with embedding_dim dimensions;\n",
    "* tf.keras.layers.GRU: A type of RNN with size units=rnn_units (You can also use a LSTM layer here)\n",
    "* tf.keras.layers.Dense: The output layer, with vocab_size outputs"
   ]
  },
  {
   "cell_type": "code",
   "execution_count": 16,
   "metadata": {},
   "outputs": [],
   "source": [
    "# Length of the vocabulary in chars\n",
    "vocab_size = len(vocab)\n",
    "\n",
    "# The embedding dimension\n",
    "embedding_dim = 256\n",
    "\n",
    "# Number of RNN units\n",
    "rnn_units = 1024\n",
    "\n",
    "def build_model(vocab_size, embedding_dim, rnn_units, batch_size):\n",
    "  model = tf.keras.Sequential([\n",
    "    tf.keras.layers.Embedding(vocab_size, embedding_dim,\n",
    "                              batch_input_shape=[batch_size, None]),\n",
    "    tf.keras.layers.GRU(rnn_units,\n",
    "                        return_sequences=True,\n",
    "                        stateful=True,\n",
    "                        recurrent_initializer='glorot_uniform'),\n",
    "    tf.keras.layers.Dense(vocab_size)\n",
    "  ])\n",
    "  return model\n",
    "\n",
    "model = build_model(\n",
    "  vocab_size = len(vocab),\n",
    "  embedding_dim=embedding_dim,\n",
    "  rnn_units=rnn_units,\n",
    "  batch_size=BATCH_SIZE)"
   ]
  },
  {
   "cell_type": "markdown",
   "metadata": {},
   "source": [
    "For each character the model looks up the embedding, runs the GRU one timestep with the embedding as input, and applies the dense layer to generate logits predicting the log-liklihood of the next character"
   ]
  },
  {
   "cell_type": "code",
   "execution_count": 17,
   "metadata": {},
   "outputs": [
    {
     "name": "stdout",
     "output_type": "stream",
     "text": [
      "(64, 100, 65) # (batch_size, sequence_length, vocab_size)\n"
     ]
    }
   ],
   "source": [
    "#Try the model\n",
    "# Check the shape of the output\n",
    "\n",
    "for input_example_batch, target_example_batch in dataset.take(1):\n",
    "  example_batch_predictions = model(input_example_batch)\n",
    "  print(example_batch_predictions.shape, \"# (batch_size, sequence_length, vocab_size)\")\n",
    "    "
   ]
  },
  {
   "cell_type": "markdown",
   "metadata": {},
   "source": [
    "Tal y como se puede comprobar, el output es un cubo, y en la tercer dimensión nos da la probabilidad del siguiente caracter "
   ]
  },
  {
   "cell_type": "code",
   "execution_count": 18,
   "metadata": {},
   "outputs": [
    {
     "name": "stdout",
     "output_type": "stream",
     "text": [
      "Model: \"sequential\"\n",
      "_________________________________________________________________\n",
      "Layer (type)                 Output Shape              Param #   \n",
      "=================================================================\n",
      "embedding (Embedding)        (64, None, 256)           16640     \n",
      "_________________________________________________________________\n",
      "gru (GRU)                    (64, None, 1024)          3938304   \n",
      "_________________________________________________________________\n",
      "dense (Dense)                (64, None, 65)            66625     \n",
      "=================================================================\n",
      "Total params: 4,021,569\n",
      "Trainable params: 4,021,569\n",
      "Non-trainable params: 0\n",
      "_________________________________________________________________\n"
     ]
    }
   ],
   "source": [
    "model.summary()"
   ]
  },
  {
   "cell_type": "markdown",
   "metadata": {},
   "source": [
    "To get actual predictions from the model we need to sample from the output distribution, to get character indices. This distribution is defined by the logits over the character vocabulary"
   ]
  },
  {
   "cell_type": "code",
   "execution_count": 19,
   "metadata": {},
   "outputs": [
    {
     "data": {
      "text/plain": [
       "array([42, 35, 33, 16, 31, 64, 64, 54, 18, 42, 22, 26, 18, 59,  3, 24, 29,\n",
       "        4, 32, 57, 52,  8, 16, 31, 40, 35, 55, 34, 52, 61, 21,  9, 61, 55,\n",
       "        5, 11, 22, 44, 45, 16,  8, 45, 11, 57, 52, 22, 44, 18, 33, 28, 11,\n",
       "       61, 15,  3, 13, 27, 44, 24, 12, 60,  1, 55, 43, 31, 17, 41,  8, 18,\n",
       "       18, 19, 63, 25, 27, 18, 21,  0, 58,  6, 60, 36, 37, 29, 41, 43, 13,\n",
       "       13, 51, 45, 41,  0, 41, 18, 23, 44, 16, 47, 10, 26, 58, 48])"
      ]
     },
     "execution_count": 19,
     "metadata": {},
     "output_type": "execute_result"
    }
   ],
   "source": [
    "sampled_indices = tf.random.categorical(example_batch_predictions[0], num_samples=1)\n",
    "sampled_indices = tf.squeeze(sampled_indices,axis=-1).numpy()\n",
    "sampled_indices"
   ]
  },
  {
   "cell_type": "code",
   "execution_count": 20,
   "metadata": {},
   "outputs": [
    {
     "name": "stdout",
     "output_type": "stream",
     "text": [
      "Input: \n",
      " \"that I'll give my cousin.\\n\\nYORK:\\nA greater gift! O, that's the sword to it.\\n\\nGLOUCESTER:\\nA gentle co\"\n",
      "\n",
      "Next Char Predictions: \n",
      " \"dWUDSzzpFdJNFu$LQ&Tsn.DSbWqVnwI3wq';JfgD.g;snJfFUP;wC$AOfL?v qeSEc.FFGyMOFI\\nt,vXYQceAAmgc\\ncFKfDi:Ntj\"\n"
     ]
    }
   ],
   "source": [
    "print(\"Input: \\n\", repr(\"\".join(idx2char[input_example_batch[0]])))\n",
    "print()\n",
    "print(\"Next Char Predictions: \\n\", repr(\"\".join(idx2char[sampled_indices ])))"
   ]
  },
  {
   "cell_type": "code",
   "execution_count": 21,
   "metadata": {},
   "outputs": [
    {
     "name": "stdout",
     "output_type": "stream",
     "text": [
      "Prediction shape:  (64, 100, 65)  # (batch_size, sequence_length, vocab_size)\n",
      "scalar_loss:       4.1741\n"
     ]
    }
   ],
   "source": [
    "# Train the model\n",
    "def loss(labels, logits):\n",
    "  return tf.keras.losses.sparse_categorical_crossentropy(labels, logits, from_logits=True)\n",
    "\n",
    "example_batch_loss  = loss(target_example_batch, example_batch_predictions)\n",
    "print(\"Prediction shape: \", example_batch_predictions.shape, \" # (batch_size, sequence_length, vocab_size)\")\n",
    "print(\"scalar_loss:      \", example_batch_loss.numpy().mean())\n"
   ]
  },
  {
   "cell_type": "code",
   "execution_count": 22,
   "metadata": {},
   "outputs": [],
   "source": [
    "model.compile(optimizer='adam', loss=loss)"
   ]
  },
  {
   "cell_type": "code",
   "execution_count": 23,
   "metadata": {},
   "outputs": [
    {
     "name": "stdout",
     "output_type": "stream",
     "text": [
      "Epoch 1/10\n",
      "172/172 [==============================] - 565s 3s/step - loss: 2.6840\n",
      "Epoch 2/10\n",
      "172/172 [==============================] - 523s 3s/step - loss: 1.9570\n",
      "Epoch 3/10\n",
      "172/172 [==============================] - 527s 3s/step - loss: 1.6913\n",
      "Epoch 4/10\n",
      "172/172 [==============================] - 541s 3s/step - loss: 1.5432\n",
      "Epoch 5/10\n",
      "172/172 [==============================] - 569s 3s/step - loss: 1.4553\n",
      "Epoch 6/10\n",
      "172/172 [==============================] - 593s 3s/step - loss: 1.3946\n",
      "Epoch 7/10\n",
      "172/172 [==============================] - 615s 4s/step - loss: 1.3489\n",
      "Epoch 8/10\n",
      "172/172 [==============================] - 573s 3s/step - loss: 1.3100\n",
      "Epoch 9/10\n",
      "172/172 [==============================] - 646s 4s/step - loss: 1.2753\n",
      "Epoch 10/10\n",
      "172/172 [==============================] - 616s 4s/step - loss: 1.2420\n"
     ]
    }
   ],
   "source": [
    "# Directory where the checkpoints will be saved\n",
    "checkpoint_dir = './training_checkpoints'\n",
    "# Name of the checkpoint files\n",
    "checkpoint_prefix = os.path.join(checkpoint_dir, \"ckpt_{epoch}\")\n",
    "\n",
    "checkpoint_callback=tf.keras.callbacks.ModelCheckpoint(\n",
    "    filepath=checkpoint_prefix,\n",
    "    save_weights_only=True)\n",
    "\n",
    "EPOCHS=10\n",
    "history = model.fit(dataset, epochs=EPOCHS, callbacks=[checkpoint_callback])\n"
   ]
  },
  {
   "cell_type": "markdown",
   "metadata": {},
   "source": [
    "# Generate Text\n",
    "## Restore the latest checkpoint"
   ]
  },
  {
   "cell_type": "code",
   "execution_count": 24,
   "metadata": {},
   "outputs": [
    {
     "data": {
      "text/plain": [
       "'./training_checkpoints/ckpt_10'"
      ]
     },
     "execution_count": 24,
     "metadata": {},
     "output_type": "execute_result"
    }
   ],
   "source": [
    "tf.train.latest_checkpoint(checkpoint_dir)"
   ]
  },
  {
   "cell_type": "code",
   "execution_count": 25,
   "metadata": {},
   "outputs": [
    {
     "name": "stdout",
     "output_type": "stream",
     "text": [
      "Model: \"sequential_1\"\n",
      "_________________________________________________________________\n",
      "Layer (type)                 Output Shape              Param #   \n",
      "=================================================================\n",
      "embedding_1 (Embedding)      (1, None, 256)            16640     \n",
      "_________________________________________________________________\n",
      "gru_1 (GRU)                  (1, None, 1024)           3938304   \n",
      "_________________________________________________________________\n",
      "dense_1 (Dense)              (1, None, 65)             66625     \n",
      "=================================================================\n",
      "Total params: 4,021,569\n",
      "Trainable params: 4,021,569\n",
      "Non-trainable params: 0\n",
      "_________________________________________________________________\n"
     ]
    }
   ],
   "source": [
    "model = build_model(vocab_size, embedding_dim, rnn_units, batch_size=1)\n",
    "\n",
    "model.load_weights(tf.train.latest_checkpoint(checkpoint_dir))\n",
    "\n",
    "model.build(tf.TensorShape([1, None]))\n",
    "\n",
    "model.summary()"
   ]
  },
  {
   "cell_type": "markdown",
   "metadata": {},
   "source": [
    "## The prediction Loop\n",
    "The following code block generates the text:\n",
    "\n",
    "* It starts by choosing a start string, initializing the RNN state and setting the number of characters to generate\n",
    "\n",
    "* Get the prediction distribution of the next character using the start and the RNN state\n",
    "\n",
    "* Then, use a categorical distribution to calculate the index of the predicted character. Use this predicted character as our next input to the model\n",
    "\n",
    "* The RNN state returned by the model is bed back into the model so that is now has more context, instead than only one character. After predictig the next character, the modified RNN states are agin fed back into the model, which is how it learns as it gets more context from the previously predicted characters"
   ]
  },
  {
   "cell_type": "code",
   "execution_count": 36,
   "metadata": {},
   "outputs": [
    {
     "name": "stdout",
     "output_type": "stream",
     "text": [
      "Raquel, Raquelandia's Queen: let's fellows that can\n",
      "Affrighted clouds by and said on by his careful body\n",
      "That bears me spite of father by patting of your crown?\n",
      "\n",
      "KING RICHARD II:\n",
      "Nail, uncle? 'tis sor a war again any white robbers are almost show himself discover'd his reasons are best so long.\n",
      "\n",
      "GLOUCESTER:\n",
      "The singhat valiant in the lists:\n",
      "A day for death! knows it is fove that are no more;\n",
      "For back to be commanded, so he hath commend them,\n",
      "Both of his wisdom can not forget\n",
      "That death is dead, the glose worships hast upon you.\n",
      "\n",
      "GONZALO:\n",
      "God fall thy boots death, but down;\n",
      "The prey of my best, you must received.\n",
      "\n",
      "LUCIO:\n",
      "ENCE:\n",
      "I have been but worthy years his business.\n",
      "\n",
      "DORCAS:\n",
      "Let hill hath been unmerrel'd.\n",
      "\n",
      "KING RICHARD III:\n",
      "Carry upon this prize look'd drops of blood!\n",
      "My daughter, thou art a word, so thine\n",
      "eyes,--and this royal broth the very\n",
      "give I think you are, thou art a word of dagger.\n",
      "\n",
      "BUCKINGHAM:\n",
      "I am thy less,\n",
      "That you his death, he shall be done,\n",
      "If you before the greater doing: is he should pity hermething so brids\n",
      "With sword, who shall we faved in many death,\n",
      "His grievous supposes that inference\n",
      "Of the people, cains fellow,\n",
      "Curted is this point of love.\n",
      "\n",
      "LADY ANNE:\n",
      "I think kill the duke uncle Clarence.\n",
      "\n",
      "GLOUCESTER:\n",
      "No more than you, if you will, and I\n",
      "account our tatchiving word?\n",
      "\n",
      "QUEEN MARGARET:\n",
      "But then she was doom this Kate.\n",
      "\n",
      "SICINIUS:\n",
      "I think, sir;\n",
      "The best boundelory against his face.\n",
      "This best shall pass before the death of sunds,\n",
      "That made the churchys of what has been into my kings and traitors\n",
      "Hath roudded purhish the dekerous corse.\n",
      "Be poison, one that have I lived.\n",
      "\n",
      "KING RICHARD II:\n",
      "No death, ho! need no more, thy liberty!\n",
      "\n",
      "MINGELO:\n",
      "The day in saffied hands with me.\n",
      "\n",
      "CLARENCE:\n",
      "And hear me stand upon my chadge to you, your hands\n",
      "That have will say how he last?\n",
      "\n",
      "KING EDWARD IV:\n",
      "This is the rest, that far off, he hath reported\n",
      "The city is mistress of a bar\n",
      "That I was better crock too noble lord.\n",
      "\n",
      "KING EDWARD IV:\n",
      "I nd's gave and wish you look'd for this charity of his pluck hath,\n",
      "That he bear thee both of his wounds,\n",
      "And his face than do; soft! did, the parts your parts again.\n",
      "The sun no more holdly to my face;\n",
      "and that have done--bound with my day.\n",
      "\n",
      "KING RICHARD III:\n",
      "A bawd, being comes the way? I'll go.\n",
      "\n",
      "GRUMIO:\n",
      "\n",
      "AUTOLYCUS:\n",
      "Nay, four condition and the dwelling wather\n",
      "For years him well. Back'd I may not report your sister chance?\n",
      "The spirit thou art go to me; come, both of them.\n",
      "\n",
      "KING EDWARD IV:\n",
      "What news?\n",
      "\n",
      "MarILLO:\n",
      "He shall we be determined with our be\n",
      "ganders: my lord, this game leave out-mouthated with the day of statable knowledge.\n",
      "\n",
      "SICINIUS:\n",
      "No, I'll be\n",
      "dispersition and powers from I require this swell delight;\n",
      "Weak not, madam: 'tis hath a little langues of T:\n",
      "Are come the day my visery breath\n",
      "The penitent great deliverent that has done,\n",
      "That the belly of his head,\n",
      "Your breast was pursued finger'd her; distributious invitements,\n",
      "As here report us thine ears?\n",
      "\n",
      "KING EDWARD IV:\n",
      "What if this boats with me that makes the day.\n",
      "But suppose the bastard boy!\n",
      "Thou wast born in appreseth of self-bodies are before your langmand's wife\n",
      "Of heaven but what the duke in heaven!\n",
      "Speak courages by my prother friar, that he\n",
      "besolding our course of my heart, and report itself,\n",
      "Shall have resign'd with a bound.\n",
      "\n",
      "LORD ROSS:\n",
      "Make I in this coventy!\n",
      "\n",
      "CATESBY:\n",
      "My gracious lord,\n",
      "Though you my with a lest part of the people's gages\n",
      "In me forthwith my days of this:\n",
      "Say that I have meet more than a king,\n",
      "That worthy manages of the\n",
      "Tower.\n",
      "\n",
      "MERCUTIO:\n",
      "A goodly tell thee\n"
     ]
    }
   ],
   "source": [
    "def generate_text(model, start_string):\n",
    "  # Evaluation step (generating text using the learned model)\n",
    "\n",
    "  # Number of characters to generate\n",
    "  num_generate = 3500\n",
    "\n",
    "  # Converting our start string to numbers (vectorizing)\n",
    "  input_eval = [char2idx[s] for s in start_string]\n",
    "  input_eval = tf.expand_dims(input_eval, 0)\n",
    "\n",
    "  # Empty string to store our results\n",
    "  text_generated = []\n",
    "\n",
    "  # Low temperatures results in more predictable text.\n",
    "  # Higher temperatures results in more surprising text.\n",
    "  # Experiment to find the best setting.\n",
    "  temperature = 0.8\n",
    "\n",
    "  # Here batch size == 1\n",
    "  model.reset_states()\n",
    "  for i in range(num_generate):\n",
    "      predictions = model(input_eval)\n",
    "      # remove the batch dimension\n",
    "      predictions = tf.squeeze(predictions, 0)\n",
    "\n",
    "      # using a categorical distribution to predict the character returned by the model\n",
    "      predictions = predictions / temperature\n",
    "      predicted_id = tf.random.categorical(predictions, num_samples=1)[-1,0].numpy()\n",
    "\n",
    "      # We pass the predicted character as the next input to the model\n",
    "      # along with the previous hidden state\n",
    "      input_eval = tf.expand_dims([predicted_id], 0)\n",
    "\n",
    "      text_generated.append(idx2char[predicted_id])\n",
    "\n",
    "  return (start_string + ''.join(text_generated))\n",
    "\n",
    "\n",
    "print(generate_text(model, start_string=u\"Raquel, Raquelandia's Queen: \"))"
   ]
  },
  {
   "cell_type": "code",
   "execution_count": null,
   "metadata": {},
   "outputs": [],
   "source": []
  }
 ],
 "metadata": {
  "kernelspec": {
   "display_name": "Python 3",
   "language": "python",
   "name": "python3"
  },
  "language_info": {
   "codemirror_mode": {
    "name": "ipython",
    "version": 3
   },
   "file_extension": ".py",
   "mimetype": "text/x-python",
   "name": "python",
   "nbconvert_exporter": "python",
   "pygments_lexer": "ipython3",
   "version": "3.7.4"
  }
 },
 "nbformat": 4,
 "nbformat_minor": 2
}
